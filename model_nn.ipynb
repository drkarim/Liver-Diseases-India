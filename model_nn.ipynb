{
 "cells": [
  {
   "cell_type": "code",
   "execution_count": 56,
   "metadata": {},
   "outputs": [],
   "source": [
    "import numpy as np\n",
    "import pandas as pd\n",
    "\n",
    "# Keras \n",
    "from keras.models import Sequential\n",
    "from keras.layers import Dense\n",
    "from keras import optimizers\n",
    "\n",
    "\n",
    "# data visualization libraries:\n",
    "import matplotlib.pyplot as plt\n",
    "import seaborn as sns\n",
    "\n",
    "# to ignore warnings:\n",
    "import warnings\n",
    "warnings.filterwarnings('ignore')\n",
    "\n",
    "# to display all columns:\n",
    "pd.set_option('display.max_columns', None)\n",
    "\n",
    "from sklearn.model_selection import train_test_split, GridSearchCV\n",
    "from sklearn.model_selection import train_test_split\n",
    "from sklearn.metrics import accuracy_score"
   ]
  },
  {
   "cell_type": "markdown",
   "metadata": {},
   "source": [
    "## Read Normalised Dataset"
   ]
  },
  {
   "cell_type": "code",
   "execution_count": 57,
   "metadata": {},
   "outputs": [],
   "source": [
    "train_ = pd.read_csv('./data/normalised.csv')\n",
    "train = train_.copy()"
   ]
  },
  {
   "cell_type": "markdown",
   "metadata": {},
   "source": [
    "## Neural Network "
   ]
  },
  {
   "cell_type": "code",
   "execution_count": 58,
   "metadata": {},
   "outputs": [],
   "source": [
    "# Create a simple NN \n",
    "# Build neural network in Keras\n",
    "model = Sequential()\n",
    "model.add(Dense(8, activation='relu', input_dim=11))\n",
    "model.add(Dense(4, activation='relu'))\n",
    "model.add(Dense(1, activation='sigmoid'))\n",
    "model.compile(optimizer='adam', loss='binary_crossentropy', metrics=['accuracy'])"
   ]
  },
  {
   "cell_type": "code",
   "execution_count": 59,
   "metadata": {},
   "outputs": [
    {
     "name": "stdout",
     "output_type": "stream",
     "text": [
      "_________________________________________________________________\n",
      "Layer (type)                 Output Shape              Param #   \n",
      "=================================================================\n",
      "dense_19 (Dense)             (None, 8)                 96        \n",
      "_________________________________________________________________\n",
      "dense_20 (Dense)             (None, 4)                 36        \n",
      "_________________________________________________________________\n",
      "dense_21 (Dense)             (None, 1)                 5         \n",
      "=================================================================\n",
      "Total params: 137\n",
      "Trainable params: 137\n",
      "Non-trainable params: 0\n",
      "_________________________________________________________________\n"
     ]
    }
   ],
   "source": [
    "model.summary()"
   ]
  },
  {
   "cell_type": "code",
   "execution_count": 60,
   "metadata": {},
   "outputs": [],
   "source": [
    "# lets drop the predictor column\n",
    "predictors = train.drop(['Dataset', 'Gender'], axis=1)"
   ]
  },
  {
   "cell_type": "code",
   "execution_count": 61,
   "metadata": {},
   "outputs": [],
   "source": [
    "# Any nan rows are replaced with column mean\n",
    "predictors.fillna(predictors.mean(), inplace=True)"
   ]
  },
  {
   "cell_type": "code",
   "execution_count": 62,
   "metadata": {},
   "outputs": [
    {
     "data": {
      "text/plain": [
       "(466, 11)"
      ]
     },
     "execution_count": 62,
     "metadata": {},
     "output_type": "execute_result"
    }
   ],
   "source": [
    "target = train[\"Dataset\"]\n",
    "x_train, x_test, y_train, y_test = train_test_split(predictors, target, test_size = 0.20, random_state = 0)\n",
    "x_train.shape"
   ]
  },
  {
   "cell_type": "code",
   "execution_count": 63,
   "metadata": {},
   "outputs": [
    {
     "name": "stdout",
     "output_type": "stream",
     "text": [
      "Epoch 1/100\n",
      "466/466 [==============================] - 1s 1ms/step - loss: -4.1160 - acc: 0.7253\n",
      "Epoch 2/100\n",
      "466/466 [==============================] - 0s 175us/step - loss: -4.1353 - acc: 0.7253\n",
      "Epoch 3/100\n",
      "466/466 [==============================] - 0s 166us/step - loss: -4.1491 - acc: 0.7253\n",
      "Epoch 4/100\n",
      "466/466 [==============================] - 0s 166us/step - loss: -4.1692 - acc: 0.7253\n",
      "Epoch 5/100\n",
      "466/466 [==============================] - 0s 170us/step - loss: -4.1829 - acc: 0.7253\n",
      "Epoch 6/100\n",
      "466/466 [==============================] - 0s 166us/step - loss: -4.2003 - acc: 0.7253\n",
      "Epoch 7/100\n",
      "466/466 [==============================] - 0s 164us/step - loss: -4.2161 - acc: 0.7253\n",
      "Epoch 8/100\n",
      "466/466 [==============================] - 0s 161us/step - loss: -4.2323 - acc: 0.7253\n",
      "Epoch 9/100\n",
      "466/466 [==============================] - 0s 162us/step - loss: -4.2462 - acc: 0.7253\n",
      "Epoch 10/100\n",
      "466/466 [==============================] - 0s 162us/step - loss: -4.2579 - acc: 0.7253\n",
      "Epoch 11/100\n",
      "466/466 [==============================] - 0s 161us/step - loss: -4.2698 - acc: 0.7253\n",
      "Epoch 12/100\n",
      "466/466 [==============================] - 0s 163us/step - loss: -4.2841 - acc: 0.7253\n",
      "Epoch 13/100\n",
      "466/466 [==============================] - 0s 165us/step - loss: -4.2952 - acc: 0.7253\n",
      "Epoch 14/100\n",
      "466/466 [==============================] - 0s 161us/step - loss: -4.3028 - acc: 0.7253\n",
      "Epoch 15/100\n",
      "466/466 [==============================] - 0s 168us/step - loss: -4.3107 - acc: 0.7253\n",
      "Epoch 16/100\n",
      "466/466 [==============================] - 0s 165us/step - loss: -4.3193 - acc: 0.7253\n",
      "Epoch 17/100\n",
      "466/466 [==============================] - 0s 161us/step - loss: -4.3251 - acc: 0.7253\n",
      "Epoch 18/100\n",
      "466/466 [==============================] - 0s 168us/step - loss: -4.3335 - acc: 0.7253\n",
      "Epoch 19/100\n",
      "466/466 [==============================] - 0s 167us/step - loss: -4.3428 - acc: 0.7253\n",
      "Epoch 20/100\n",
      "466/466 [==============================] - 0s 159us/step - loss: -4.3469 - acc: 0.7253\n",
      "Epoch 21/100\n",
      "466/466 [==============================] - 0s 165us/step - loss: -4.3494 - acc: 0.7253\n",
      "Epoch 22/100\n",
      "466/466 [==============================] - 0s 160us/step - loss: -4.3519 - acc: 0.7253\n",
      "Epoch 23/100\n",
      "466/466 [==============================] - 0s 165us/step - loss: -4.3534 - acc: 0.7253\n",
      "Epoch 24/100\n",
      "466/466 [==============================] - 0s 167us/step - loss: -4.3550 - acc: 0.7253\n",
      "Epoch 25/100\n",
      "466/466 [==============================] - 0s 167us/step - loss: -4.3566 - acc: 0.7253\n",
      "Epoch 26/100\n",
      "466/466 [==============================] - 0s 172us/step - loss: -4.3569 - acc: 0.7253\n",
      "Epoch 27/100\n",
      "466/466 [==============================] - 0s 171us/step - loss: -4.3573 - acc: 0.7253\n",
      "Epoch 28/100\n",
      "466/466 [==============================] - 0s 168us/step - loss: -4.3575 - acc: 0.7253\n",
      "Epoch 29/100\n",
      "466/466 [==============================] - 0s 158us/step - loss: -4.3578 - acc: 0.7253\n",
      "Epoch 30/100\n",
      "466/466 [==============================] - 0s 187us/step - loss: -4.3580 - acc: 0.7253\n",
      "Epoch 31/100\n",
      "466/466 [==============================] - 0s 165us/step - loss: -4.3582 - acc: 0.7253\n",
      "Epoch 32/100\n",
      "466/466 [==============================] - 0s 163us/step - loss: -4.3584 - acc: 0.7253\n",
      "Epoch 33/100\n",
      "466/466 [==============================] - 0s 171us/step - loss: -4.3585 - acc: 0.7253\n",
      "Epoch 34/100\n",
      "466/466 [==============================] - 0s 158us/step - loss: -4.3587 - acc: 0.7253\n",
      "Epoch 35/100\n",
      "466/466 [==============================] - 0s 164us/step - loss: -4.3587 - acc: 0.7253\n",
      "Epoch 36/100\n",
      "466/466 [==============================] - 0s 164us/step - loss: -4.3589 - acc: 0.7253\n",
      "Epoch 37/100\n",
      "466/466 [==============================] - 0s 160us/step - loss: -4.3590 - acc: 0.7253\n",
      "Epoch 38/100\n",
      "466/466 [==============================] - 0s 164us/step - loss: -4.3591 - acc: 0.7253\n",
      "Epoch 39/100\n",
      "466/466 [==============================] - 0s 165us/step - loss: -4.3593 - acc: 0.7253\n",
      "Epoch 40/100\n",
      "466/466 [==============================] - 0s 159us/step - loss: -4.3594 - acc: 0.7253\n",
      "Epoch 41/100\n",
      "466/466 [==============================] - 0s 158us/step - loss: -4.3595 - acc: 0.7253\n",
      "Epoch 42/100\n",
      "466/466 [==============================] - 0s 167us/step - loss: -4.3596 - acc: 0.7253\n",
      "Epoch 43/100\n",
      "466/466 [==============================] - 0s 166us/step - loss: -4.3598 - acc: 0.7253\n",
      "Epoch 44/100\n",
      "466/466 [==============================] - 0s 164us/step - loss: -4.3599 - acc: 0.7253\n",
      "Epoch 45/100\n",
      "466/466 [==============================] - 0s 164us/step - loss: -4.3601 - acc: 0.7253\n",
      "Epoch 46/100\n",
      "466/466 [==============================] - 0s 170us/step - loss: -4.3602 - acc: 0.7253\n",
      "Epoch 47/100\n",
      "466/466 [==============================] - 0s 163us/step - loss: -4.3604 - acc: 0.7253\n",
      "Epoch 48/100\n",
      "466/466 [==============================] - 0s 158us/step - loss: -4.3605 - acc: 0.7253\n",
      "Epoch 49/100\n",
      "466/466 [==============================] - 0s 163us/step - loss: -4.3607 - acc: 0.7253\n",
      "Epoch 50/100\n",
      "466/466 [==============================] - 0s 159us/step - loss: -4.3608 - acc: 0.7253\n",
      "Epoch 51/100\n",
      "466/466 [==============================] - 0s 163us/step - loss: -4.3610 - acc: 0.7253\n",
      "Epoch 52/100\n",
      "466/466 [==============================] - 0s 165us/step - loss: -4.3611 - acc: 0.7253\n",
      "Epoch 53/100\n",
      "466/466 [==============================] - 0s 172us/step - loss: -4.3613 - acc: 0.7253\n",
      "Epoch 54/100\n",
      "466/466 [==============================] - 0s 162us/step - loss: -4.3615 - acc: 0.7253\n",
      "Epoch 55/100\n",
      "466/466 [==============================] - 0s 163us/step - loss: -4.3616 - acc: 0.7253\n",
      "Epoch 56/100\n",
      "466/466 [==============================] - 0s 163us/step - loss: -4.3618 - acc: 0.7253\n",
      "Epoch 57/100\n",
      "466/466 [==============================] - 0s 176us/step - loss: -4.3620 - acc: 0.7253\n",
      "Epoch 58/100\n",
      "466/466 [==============================] - 0s 177us/step - loss: -4.3621 - acc: 0.7253\n",
      "Epoch 59/100\n",
      "466/466 [==============================] - 0s 166us/step - loss: -4.3623 - acc: 0.7253\n",
      "Epoch 60/100\n",
      "466/466 [==============================] - 0s 172us/step - loss: -4.3625 - acc: 0.7253\n",
      "Epoch 61/100\n",
      "466/466 [==============================] - 0s 162us/step - loss: -4.3627 - acc: 0.7253\n",
      "Epoch 62/100\n",
      "466/466 [==============================] - 0s 161us/step - loss: -4.3629 - acc: 0.7253\n",
      "Epoch 63/100\n",
      "466/466 [==============================] - 0s 166us/step - loss: -4.3631 - acc: 0.7253\n",
      "Epoch 64/100\n",
      "466/466 [==============================] - 0s 168us/step - loss: -4.3635 - acc: 0.7253\n",
      "Epoch 65/100\n",
      "466/466 [==============================] - 0s 171us/step - loss: -4.3637 - acc: 0.7253\n",
      "Epoch 66/100\n",
      "466/466 [==============================] - 0s 167us/step - loss: -4.3640 - acc: 0.7253\n",
      "Epoch 67/100\n",
      "466/466 [==============================] - 0s 164us/step - loss: -4.3643 - acc: 0.7253\n",
      "Epoch 68/100\n",
      "466/466 [==============================] - 0s 171us/step - loss: -4.3646 - acc: 0.7253\n",
      "Epoch 69/100\n",
      "466/466 [==============================] - 0s 175us/step - loss: -4.3649 - acc: 0.7253\n",
      "Epoch 70/100\n",
      "466/466 [==============================] - 0s 161us/step - loss: -4.3653 - acc: 0.7253\n",
      "Epoch 71/100\n",
      "466/466 [==============================] - 0s 163us/step - loss: -4.3656 - acc: 0.7253\n",
      "Epoch 72/100\n",
      "466/466 [==============================] - 0s 162us/step - loss: -4.3659 - acc: 0.7253\n",
      "Epoch 73/100\n",
      "466/466 [==============================] - 0s 160us/step - loss: -4.3663 - acc: 0.7253\n",
      "Epoch 74/100\n",
      "466/466 [==============================] - 0s 161us/step - loss: -4.3666 - acc: 0.7253\n",
      "Epoch 75/100\n",
      "466/466 [==============================] - 0s 160us/step - loss: -4.3669 - acc: 0.7253\n",
      "Epoch 76/100\n",
      "466/466 [==============================] - 0s 159us/step - loss: -4.3673 - acc: 0.7253\n",
      "Epoch 77/100\n",
      "466/466 [==============================] - 0s 153us/step - loss: -4.3677 - acc: 0.7253\n",
      "Epoch 78/100\n",
      "466/466 [==============================] - 0s 156us/step - loss: -4.3680 - acc: 0.7253\n",
      "Epoch 79/100\n",
      "466/466 [==============================] - 0s 162us/step - loss: -4.3683 - acc: 0.7253\n",
      "Epoch 80/100\n",
      "466/466 [==============================] - 0s 160us/step - loss: -4.3687 - acc: 0.7253\n",
      "Epoch 81/100\n",
      "466/466 [==============================] - 0s 163us/step - loss: -4.3692 - acc: 0.7253\n",
      "Epoch 82/100\n",
      "466/466 [==============================] - 0s 158us/step - loss: -4.3696 - acc: 0.7253\n",
      "Epoch 83/100\n"
     ]
    },
    {
     "name": "stdout",
     "output_type": "stream",
     "text": [
      "466/466 [==============================] - 0s 174us/step - loss: -4.3700 - acc: 0.7253\n",
      "Epoch 84/100\n",
      "466/466 [==============================] - 0s 172us/step - loss: -4.3705 - acc: 0.7253\n",
      "Epoch 85/100\n",
      "466/466 [==============================] - 0s 167us/step - loss: -4.3710 - acc: 0.7253\n",
      "Epoch 86/100\n",
      "466/466 [==============================] - 0s 175us/step - loss: -4.3715 - acc: 0.7253\n",
      "Epoch 87/100\n",
      "466/466 [==============================] - 0s 164us/step - loss: -4.3719 - acc: 0.7253\n",
      "Epoch 88/100\n",
      "466/466 [==============================] - 0s 168us/step - loss: -4.3724 - acc: 0.7253\n",
      "Epoch 89/100\n",
      "466/466 [==============================] - 0s 165us/step - loss: -4.3727 - acc: 0.7253\n",
      "Epoch 90/100\n",
      "466/466 [==============================] - 0s 167us/step - loss: -4.3732 - acc: 0.7253\n",
      "Epoch 91/100\n",
      "466/466 [==============================] - 0s 162us/step - loss: -4.3735 - acc: 0.7253\n",
      "Epoch 92/100\n",
      "466/466 [==============================] - 0s 166us/step - loss: -4.3743 - acc: 0.7253\n",
      "Epoch 93/100\n",
      "466/466 [==============================] - 0s 168us/step - loss: -4.3746 - acc: 0.7253\n",
      "Epoch 94/100\n",
      "466/466 [==============================] - 0s 163us/step - loss: -4.3748 - acc: 0.7253\n",
      "Epoch 95/100\n",
      "466/466 [==============================] - 0s 185us/step - loss: -4.3756 - acc: 0.7253\n",
      "Epoch 96/100\n",
      "466/466 [==============================] - 0s 167us/step - loss: -4.3760 - acc: 0.7253\n",
      "Epoch 97/100\n",
      "466/466 [==============================] - 0s 163us/step - loss: -4.3767 - acc: 0.7253\n",
      "Epoch 98/100\n",
      "466/466 [==============================] - 0s 167us/step - loss: -4.3775 - acc: 0.7253\n",
      "Epoch 99/100\n",
      "466/466 [==============================] - 0s 164us/step - loss: -4.3775 - acc: 0.7253\n",
      "Epoch 100/100\n",
      "466/466 [==============================] - 0s 163us/step - loss: -4.3790 - acc: 0.7253\n"
     ]
    },
    {
     "data": {
      "text/plain": [
       "<keras.callbacks.History at 0x15661eaacc0>"
      ]
     },
     "execution_count": 63,
     "metadata": {},
     "output_type": "execute_result"
    }
   ],
   "source": [
    "model.fit(x_train, y_train, epochs=100, verbose=True)"
   ]
  },
  {
   "cell_type": "code",
   "execution_count": 64,
   "metadata": {},
   "outputs": [],
   "source": [
    "y_pred = model.predict(x_test)"
   ]
  },
  {
   "cell_type": "code",
   "execution_count": 65,
   "metadata": {},
   "outputs": [
    {
     "name": "stdout",
     "output_type": "stream",
     "text": [
      "Training Accuracy: 72.53%\n",
      "\n",
      "Testing Accuracy: 66.67%\n",
      "\n"
     ]
    }
   ],
   "source": [
    "# Results - Accuracy\n",
    "scores = model.evaluate(x_train, y_train, verbose=False)\n",
    "print(\"Training Accuracy: %.2f%%\\n\" % (scores[1]*100))\n",
    "scores = model.evaluate(x_test, y_test, verbose=False)\n",
    "print(\"Testing Accuracy: %.2f%%\\n\" % (scores[1]*100))\n"
   ]
  },
  {
   "cell_type": "markdown",
   "metadata": {},
   "source": [
    "## Confusion Matrix"
   ]
  },
  {
   "cell_type": "code",
   "execution_count": 66,
   "metadata": {},
   "outputs": [
    {
     "data": {
      "image/png": "[encoded data removed]",
      "text/plain": [
       "<Figure size 432x288 with 1 Axes>"
      ]
     },
     "metadata": {
      "needs_background": "light"
     },
     "output_type": "display_data"
    },
    {
     "data": {
      "text/plain": [
       "<Figure size 432x288 with 0 Axes>"
      ]
     },
     "metadata": {},
     "output_type": "display_data"
    }
   ],
   "source": [
    "from sklearn.metrics import confusion_matrix\n",
    "from sklearn.metrics import roc_curve\n",
    "y_test_pred = model.predict_classes(x_test)\n",
    "c_matrix = confusion_matrix(y_test, y_test_pred)\n",
    "ax = sns.heatmap(c_matrix, annot=True, xticklabels=['Healthy', 'Disease'], yticklabels=['Healthy', 'Disease'], cbar=False, cmap='Blues')\n",
    "ax.set_xlabel(\"Prediction\")\n",
    "ax.set_ylabel(\"Actual\")\n",
    "plt.show()\n",
    "plt.clf()"
   ]
  },
  {
   "cell_type": "code",
   "execution_count": null,
   "metadata": {},
   "outputs": [],
   "source": []
  },
  {
   "cell_type": "code",
   "execution_count": null,
   "metadata": {},
   "outputs": [],
   "source": []
  }
 ],
 "metadata": {
  "kernelspec": {
   "display_name": "Python 3",
   "language": "python",
   "name": "python3"
  },
  "language_info": {
   "codemirror_mode": {
    "name": "ipython",
    "version": 3
   },
   "file_extension": ".py",
   "mimetype": "text/x-python",
   "name": "python",
   "nbconvert_exporter": "python",
   "pygments_lexer": "ipython3",
   "version": "3.6.8"
  }
 },
 "nbformat": 4,
 "nbformat_minor": 2
}
